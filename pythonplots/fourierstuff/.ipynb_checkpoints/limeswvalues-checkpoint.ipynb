{
 "cells": [
  {
   "cell_type": "code",
   "execution_count": 3,
   "metadata": {},
   "outputs": [],
   "source": [
    "import matplotlib\n",
    "\n",
    "matplotlib.use(\"agg\")\n",
    "\n",
    "import numpy as np\n",
    "\n",
    "import matplotlib.pyplot as plt\n",
    "\n",
    "from scipy.optimize import curve_fit"
   ]
  },
  {
   "cell_type": "code",
   "execution_count": 4,
   "metadata": {},
   "outputs": [],
   "source": [
    "\n",
    "date1='realfast11jjem2sh'\n",
    "date2='realfast19jjem2st'\n",
    "\n",
    "l=5\n",
    "istart=1\n",
    "ivalues=20\n",
    "\n",
    "btoeq=np.zeros((l,ivalues))\n",
    "eqtob=np.zeros((l,ivalues))\n",
    "\n",
    "for k2 in range(0,ivalues):\n",
    "\tx=[]\n",
    "\tratefile = open('/home/richard/mastergit/pythonplots/arrhenius_analytics/rate%s%d.txt' %('new'+date1+'new'+date2,k2),'r')\n",
    "\tfor k4 in ratefile:\n",
    "\t\trow=k4.split()\n",
    "\t\tx.append(float(row[0]))\n",
    "\tax=np.array(x)\n",
    "\tfor k in range(0,l):\n",
    "\t\tbtoeq[k][k2]=1/ax[k]\n",
    "\t\teqtob[k][k2]=1/ax[k+l]"
   ]
  },
  {
   "cell_type": "code",
   "execution_count": 6,
   "metadata": {},
   "outputs": [],
   "source": [
    "def deff(x,rp,rm,v):\n",
    "\treturn ((v)**2*rp*rm)/((rp+rm)**3)"
   ]
  },
  {
   "cell_type": "code",
   "execution_count": 10,
   "metadata": {},
   "outputs": [],
   "source": [
    "file=open('/home/richard/mastergit/NetBeansProjects/detmodel/countI9a.txt',\"r\")\n",
    "col,colx=[],[]\n",
    "for k in file:\n",
    "    row=k.split()\n",
    "    colx.append(float(row[0]))\n",
    "    col.append(float(row[1]))\n",
    "cola=np.array(col)\n",
    "colxa=np.array(colx)"
   ]
  },
  {
   "cell_type": "code",
   "execution_count": null,
   "metadata": {},
   "outputs": [],
   "source": []
  }
 ],
 "metadata": {
  "kernelspec": {
   "display_name": "Python 3",
   "language": "python",
   "name": "python3"
  },
  "language_info": {
   "codemirror_mode": {
    "name": "ipython",
    "version": 3
   },
   "file_extension": ".py",
   "mimetype": "text/x-python",
   "name": "python",
   "nbconvert_exporter": "python",
   "pygments_lexer": "ipython3",
   "version": "3.6.8"
  }
 },
 "nbformat": 4,
 "nbformat_minor": 2
}
